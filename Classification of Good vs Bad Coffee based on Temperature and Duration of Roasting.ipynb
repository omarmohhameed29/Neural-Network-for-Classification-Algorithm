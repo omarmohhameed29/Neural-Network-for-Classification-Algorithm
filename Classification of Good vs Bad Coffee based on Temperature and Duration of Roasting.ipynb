{
 "cells": [
  {
   "cell_type": "markdown",
   "id": "47d55313",
   "metadata": {},
   "source": [
    "# Import libraries"
   ]
  },
  {
   "cell_type": "code",
   "execution_count": 46,
   "id": "e09be4a7",
   "metadata": {},
   "outputs": [],
   "source": [
    "import numpy as np\n",
    "import tensorflow as tf\n",
    "from tensorflow.keras.models import Sequential\n",
    "from tensorflow.keras.layers import Dense\n",
    "import matplotlib.pyplot as plt"
   ]
  },
  {
   "cell_type": "markdown",
   "id": "48f6236d",
   "metadata": {},
   "source": [
    "# Load Data Set"
   ]
  },
  {
   "cell_type": "code",
   "execution_count": 48,
   "id": "60aeddba",
   "metadata": {},
   "outputs": [],
   "source": [
    "def load_coffee_data():\n",
    "    \"\"\" Creates a coffee roasting data set.\n",
    "        roasting duration: 12-15 minutes is best\n",
    "        temperature range: 175-260C is best\n",
    "    \"\"\"\n",
    "    rng = np.random.default_rng(2)\n",
    "    X = rng.random(400).reshape(-1,2)\n",
    "    X[:,1] = X[:,1] * 4 + 11.5          # 12-15 min is best\n",
    "    X[:,0] = X[:,0] * (285-150) + 150  # 350-500 F (175-260 C) is best\n",
    "    Y = np.zeros(len(X))\n",
    "    \n",
    "    i=0\n",
    "    for t,d in X:\n",
    "        y = -3/(260-175)*t + 21\n",
    "        if (t > 175 and t < 260 and d > 12 and d < 15 and d<=y ):\n",
    "            Y[i] = 1\n",
    "        else:\n",
    "            Y[i] = 0\n",
    "        i += 1\n",
    "\n",
    "    return (X, Y.reshape(-1,1))"
   ]
  },
  {
   "cell_type": "code",
   "execution_count": 49,
   "id": "36fe71c8",
   "metadata": {},
   "outputs": [
    {
     "name": "stdout",
     "output_type": "stream",
     "text": [
      "(200, 2) (200, 1)\n"
     ]
    }
   ],
   "source": [
    "X, y = load_coffee_data()\n",
    "print(X.shape, y.shape)"
   ]
  },
  {
   "cell_type": "markdown",
   "id": "f048b229",
   "metadata": {},
   "source": [
    "# Normalization of Input"
   ]
  },
  {
   "cell_type": "code",
   "execution_count": 50,
   "id": "5ad01a27",
   "metadata": {},
   "outputs": [],
   "source": [
    "norm_l = tf.keras.layers.Normalization(axis=-1)\n",
    "norm_l.adapt(X)\n",
    "Xn = norm_l(X)"
   ]
  },
  {
   "cell_type": "markdown",
   "id": "f91aa720",
   "metadata": {},
   "source": [
    "# Tile Data to increase the Data Set"
   ]
  },
  {
   "cell_type": "code",
   "execution_count": 56,
   "id": "1f723f77",
   "metadata": {},
   "outputs": [
    {
     "name": "stdout",
     "output_type": "stream",
     "text": [
      "(200000, 2) (200000, 1)\n"
     ]
    }
   ],
   "source": [
    "Xt = np.tile(Xn, (1000, 1))\n",
    "yt = np.tile(y, (1000, 1))\n",
    "print(Xt.shape, yt.shape)"
   ]
  },
  {
   "cell_type": "markdown",
   "id": "041fe88d",
   "metadata": {},
   "source": [
    "#  Model Structure"
   ]
  },
  {
   "cell_type": "code",
   "execution_count": 61,
   "id": "26e868fd",
   "metadata": {},
   "outputs": [],
   "source": [
    "tf.random.set_seed(1234)\n",
    "model = Sequential([\n",
    "    tf.keras.Input(shape=(2,)),\n",
    "    Dense(3, activation='sigmoid', name='layer1'),\n",
    "    Dense(1, activation='sigmoid', name='layer2')\n",
    "])"
   ]
  },
  {
   "cell_type": "code",
   "execution_count": 62,
   "id": "3a4c939f",
   "metadata": {},
   "outputs": [
    {
     "name": "stdout",
     "output_type": "stream",
     "text": [
      "Model: \"sequential_2\"\n",
      "_________________________________________________________________\n",
      " Layer (type)                Output Shape              Param #   \n",
      "=================================================================\n",
      " layer1 (Dense)              (None, 3)                 9         \n",
      "                                                                 \n",
      " layer2 (Dense)              (None, 1)                 4         \n",
      "                                                                 \n",
      "=================================================================\n",
      "Total params: 13\n",
      "Trainable params: 13\n",
      "Non-trainable params: 0\n",
      "_________________________________________________________________\n"
     ]
    }
   ],
   "source": [
    "model.summary()"
   ]
  },
  {
   "cell_type": "markdown",
   "id": "c7222cca",
   "metadata": {},
   "source": [
    "# Initial Parameters"
   ]
  },
  {
   "cell_type": "code",
   "execution_count": 66,
   "id": "883db8ee",
   "metadata": {},
   "outputs": [
    {
     "name": "stdout",
     "output_type": "stream",
     "text": [
      "W1(2, 3)\n",
      " [[ 0.42850006 -1.083289   -0.25739557]\n",
      " [ 0.45483613 -0.41253448 -0.54406536]] \n",
      "b1(3,)\n",
      " [0. 0. 0.]\n",
      "W2(2, 3)\n",
      " [[ 0.42850006 -1.083289   -0.25739557]\n",
      " [ 0.45483613 -0.41253448 -0.54406536]] \n",
      "b2(3,)\n",
      " [0. 0. 0.]\n"
     ]
    }
   ],
   "source": [
    "W1, b1 = model.get_layer('layer1').get_weights()\n",
    "W2, b2 = model.get_layer('layer1').get_weights()\n",
    "print(f\"W1{W1.shape}\\n\", W1, f\"\\nb1{b1.shape}\\n\", b1)\n",
    "print(f\"W2{W2.shape}\\n\", W1, f\"\\nb2{b2.shape}\\n\", b2)"
   ]
  },
  {
   "cell_type": "markdown",
   "id": "be21c23f",
   "metadata": {},
   "source": [
    "# Train the Model"
   ]
  },
  {
   "cell_type": "code",
   "execution_count": 67,
   "id": "3c985b97",
   "metadata": {},
   "outputs": [
    {
     "name": "stdout",
     "output_type": "stream",
     "text": [
      "Epoch 1/10\n",
      "6250/6250 [==============================] - 7s 1ms/step - loss: 0.1717\n",
      "Epoch 2/10\n",
      "6250/6250 [==============================] - 7s 1ms/step - loss: 0.1004\n",
      "Epoch 3/10\n",
      "6250/6250 [==============================] - 6s 1ms/step - loss: 0.0260\n",
      "Epoch 4/10\n",
      "6250/6250 [==============================] - 7s 1ms/step - loss: 0.0138\n",
      "Epoch 5/10\n",
      "6250/6250 [==============================] - 6s 1ms/step - loss: 0.0090\n",
      "Epoch 6/10\n",
      "6250/6250 [==============================] - 6s 979us/step - loss: 0.0062\n",
      "Epoch 7/10\n",
      "6250/6250 [==============================] - 6s 1ms/step - loss: 0.0043\n",
      "Epoch 8/10\n",
      "6250/6250 [==============================] - 6s 1ms/step - loss: 0.0030\n",
      "Epoch 9/10\n",
      "6250/6250 [==============================] - 6s 968us/step - loss: 0.0021\n",
      "Epoch 10/10\n",
      "6250/6250 [==============================] - 6s 967us/step - loss: 0.0015\n"
     ]
    },
    {
     "data": {
      "text/plain": [
       "<keras.callbacks.History at 0x28fdcc0eda0>"
      ]
     },
     "execution_count": 67,
     "metadata": {},
     "output_type": "execute_result"
    }
   ],
   "source": [
    "model.compile(\n",
    "    loss = tf.keras.losses.BinaryCrossentropy(),\n",
    "    optimizer = tf.keras.optimizers.Adam(learning_rate=0.01),\n",
    ")\n",
    "\n",
    "model.fit(\n",
    "    Xt,Yt,            \n",
    "    epochs=10,\n",
    ")"
   ]
  },
  {
   "cell_type": "markdown",
   "id": "44a346b9",
   "metadata": {},
   "source": [
    "# Optimized Parameters"
   ]
  },
  {
   "cell_type": "code",
   "execution_count": 78,
   "id": "18c3bd6c",
   "metadata": {},
   "outputs": [
    {
     "name": "stdout",
     "output_type": "stream",
     "text": [
      "W1(2, 3)\n",
      " [[ 14.612482     0.18546233 -10.998361  ]\n",
      " [ 12.107305    10.479361    -0.30711606]] \n",
      "b1(3,)\n",
      " [  1.9996973  12.646509  -11.82469  ]\n",
      "W2(3, 1)\n",
      " [[-47.27569 ]\n",
      " [ 45.369507]\n",
      " [-55.433495]] \n",
      "b2(1,)\n",
      " [-14.098207]\n"
     ]
    }
   ],
   "source": [
    "W1, b1 = model.get_layer('layer1').get_weights()\n",
    "W2, b2 = model.get_layer('layer2').get_weights()\n",
    "print(f\"W1{W1.shape}\\n\", W1, f\"\\nb1{b1.shape}\\n\", b1)\n",
    "print(f\"W2{W2.shape}\\n\", W2, f\"\\nb2{b2.shape}\\n\", b2)"
   ]
  },
  {
   "cell_type": "code",
   "execution_count": 80,
   "id": "a32e492b",
   "metadata": {},
   "outputs": [],
   "source": [
    "W1 = np.array([\n",
    "    [ 14.612482,     0.18546233, -10.998361  ],\n",
    "    [ 12.107305,    10.479361,    -0.30711606]\n",
    "])\n",
    "b1 = np.array([  1.9996973,  12.646509,  -11.82469  ])\n",
    "W2 = np.array([\n",
    "    [-47.27569 ],\n",
    "    [ 45.369507],\n",
    "    [-55.433495]\n",
    "])\n",
    "b2 = np.array([-14.098207])"
   ]
  },
  {
   "cell_type": "markdown",
   "id": "3088e2a2",
   "metadata": {},
   "source": [
    "# Set new Parameters to the Model"
   ]
  },
  {
   "cell_type": "code",
   "execution_count": 81,
   "id": "7913ad3a",
   "metadata": {},
   "outputs": [],
   "source": [
    "model.get_layer(\"layer1\").set_weights([W1, b1])\n",
    "model.get_layer(\"layer2\").set_weights([W2, b2])"
   ]
  },
  {
   "cell_type": "markdown",
   "id": "0c1bb157",
   "metadata": {},
   "source": [
    "# Prediction"
   ]
  },
  {
   "cell_type": "code",
   "execution_count": 82,
   "id": "e9f5a177",
   "metadata": {},
   "outputs": [
    {
     "name": "stdout",
     "output_type": "stream",
     "text": [
      "1/1 [==============================] - 0s 35ms/step\n",
      "predictions = \n",
      " [[9.9400502e-01]\n",
      " [1.0914961e-07]]\n"
     ]
    }
   ],
   "source": [
    "X_test = np.array([\n",
    "    [200,13.9],  # postive example\n",
    "    [200,17]])   # negative example\n",
    "X_testn = norm_l(X_test)\n",
    "predictions = model.predict(X_testn)\n",
    "print(\"predictions = \\n\", predictions)"
   ]
  },
  {
   "cell_type": "code",
   "execution_count": 83,
   "id": "23d1fc27",
   "metadata": {},
   "outputs": [
    {
     "name": "stdout",
     "output_type": "stream",
     "text": [
      "decisions = \n",
      "[[1.]\n",
      " [0.]]\n"
     ]
    }
   ],
   "source": [
    "yhat = np.zeros_like(predictions)\n",
    "for i in range(len(predictions)):\n",
    "    if predictions[i] >= 0.5:\n",
    "        yhat[i] = 1\n",
    "    else:\n",
    "        yhat[i] = 0\n",
    "print(f\"decisions = \\n{yhat}\")"
   ]
  },
  {
   "cell_type": "code",
   "execution_count": 84,
   "id": "02992fcd",
   "metadata": {},
   "outputs": [
    {
     "name": "stdout",
     "output_type": "stream",
     "text": [
      "decisions = \n",
      "[[1]\n",
      " [0]]\n"
     ]
    }
   ],
   "source": [
    "yhat = (predictions >= 0.5).astype(int)\n",
    "print(f\"decisions = \\n{yhat}\")"
   ]
  }
 ],
 "metadata": {
  "kernelspec": {
   "display_name": "Python 3 (ipykernel)",
   "language": "python",
   "name": "python3"
  },
  "language_info": {
   "codemirror_mode": {
    "name": "ipython",
    "version": 3
   },
   "file_extension": ".py",
   "mimetype": "text/x-python",
   "name": "python",
   "nbconvert_exporter": "python",
   "pygments_lexer": "ipython3",
   "version": "3.10.10"
  }
 },
 "nbformat": 4,
 "nbformat_minor": 5
}
